{
  "nbformat": 4,
  "nbformat_minor": 0,
  "metadata": {
    "colab": {
      "provenance": []
    },
    "kernelspec": {
      "name": "python3",
      "display_name": "Python 3"
    },
    "language_info": {
      "name": "python"
    }
  },
  "cells": [
    {
      "cell_type": "code",
      "execution_count": 2,
      "metadata": {
        "id": "ik866WeomzIS"
      },
      "outputs": [],
      "source": [
        "%%capture --no-stderr\n",
        "%pip install -U  langgraph tavily-python wikipedia langchain_openai langchain_community langgraph_sdk"
      ]
    },
    {
      "cell_type": "code",
      "source": [
        "import os, getpass\n",
        "\n",
        "def _set_env(var: str):\n",
        "    if not os.environ.get(var):\n",
        "        os.environ[var] = getpass.getpass(f\"{var}: \")\n",
        "\n",
        "_set_env(\"OPENAI_API_KEY\")"
      ],
      "metadata": {
        "colab": {
          "base_uri": "https://localhost:8080/"
        },
        "id": "tsaceD2tne91",
        "outputId": "06e04399-74e0-4668-fc88-3b2d97237150"
      },
      "execution_count": 3,
      "outputs": [
        {
          "name": "stdout",
          "output_type": "stream",
          "text": [
            "OPENAI_API_KEY: ··········\n"
          ]
        }
      ]
    },
    {
      "cell_type": "code",
      "source": [
        "from langchain_openai import ChatOpenAI\n",
        "llm = ChatOpenAI(model=\"gpt-4o\", temperature=0)"
      ],
      "metadata": {
        "id": "iTMTRlL5nrUo"
      },
      "execution_count": 4,
      "outputs": []
    },
    {
      "cell_type": "code",
      "source": [
        "from IPython.display import Image, display\n",
        "\n",
        "from typing import Any\n",
        "from typing_extensions import TypedDict\n",
        "\n",
        "from langgraph.graph import StateGraph, START, END\n",
        "import operator\n",
        "from typing import Annotated\n"
      ],
      "metadata": {
        "id": "c5m79i-9oTa8"
      },
      "execution_count": 7,
      "outputs": []
    },
    {
      "cell_type": "code",
      "source": [
        "class State(TypedDict):\n",
        "  question : str\n",
        "  answer: str\n",
        "  context : Annotated[list, operator.add]"
      ],
      "metadata": {
        "id": "H22NCz7Wnzr1"
      },
      "execution_count": 8,
      "outputs": []
    },
    {
      "cell_type": "code",
      "source": [
        "import os, getpass\n",
        "def _set_env(var: str):\n",
        "    if not os.environ.get(var):\n",
        "        os.environ[var] = getpass.getpass(f\"{var}: \")\n",
        "_set_env(\"TAVILY_API_KEY\")"
      ],
      "metadata": {
        "colab": {
          "base_uri": "https://localhost:8080/"
        },
        "id": "xJtDmolEoH9t",
        "outputId": "c0908a22-e614-42ac-fb07-ca1f81889032"
      },
      "execution_count": 9,
      "outputs": [
        {
          "name": "stdout",
          "output_type": "stream",
          "text": [
            "TAVILY_API_KEY: ··········\n"
          ]
        }
      ]
    },
    {
      "cell_type": "code",
      "source": [
        "from langchain_core.messages import HumanMessage, SystemMessage\n",
        "\n",
        "from langchain_community.document_loaders import WikipediaLoader\n",
        "from langchain_community.tools import TavilySearchResults"
      ],
      "metadata": {
        "id": "YywanS1Uocs3"
      },
      "execution_count": 10,
      "outputs": []
    },
    {
      "cell_type": "code",
      "source": [
        "def search_web(state):\n",
        "  \"\"\" Retrieve docs from web search \"\"\"\n",
        "  tavily_search = TavilySearchResults(max_results = 3)\n",
        "  search_docs = tavily_search.invoke(state['question'])\n",
        "\n",
        "  # Format\n",
        "  formatted_search_docs = \"\\n\\n---\\n\\n\".join(\n",
        "      [\n",
        "          f'<Document href=\"{doc[\"url\"]}\">\\n{doc[\"content\"]}\\n</Document>'\n",
        "          for doc in search_docs\n",
        "      ]\n",
        "  )\n",
        "\n",
        "  return {\"context\": [formatted_search_docs]}\n",
        "\n",
        "def search_wikipedia(state):\n",
        "\n",
        "    \"\"\" Retrieve docs from wikipedia \"\"\"\n",
        "\n",
        "    # Search\n",
        "    search_docs = WikipediaLoader(query=state['question'],\n",
        "                                  load_max_docs=2).load()\n",
        "\n",
        "     # Format\n",
        "    formatted_search_docs = \"\\n\\n---\\n\\n\".join(\n",
        "        [\n",
        "            f'<Document source=\"{doc.metadata[\"source\"]}\" page=\"{doc.metadata.get(\"page\", \"\")}\">\\n{doc.page_content}\\n</Document>'\n",
        "            for doc in search_docs\n",
        "        ]\n",
        "    )\n",
        "\n",
        "    return {\"context\": [formatted_search_docs]}\n",
        "\n",
        "\n",
        "def generate_answer(state):\n",
        "\n",
        "  context = state[\"context\"]\n",
        "  question = state[\"question\"]\n",
        "\n",
        "  answer_template = \"\"\"Answer this question {question} using this context {context}\"\"\"\n",
        "  answer_instructions = answer_template.format(question = question ,\n",
        "                                               context = context)\n",
        "\n",
        "  answer = llm.invoke([SystemMessage(content = answer_instructions)]+[HumanMessage(content = \"Answer the question\")])\n",
        "\n",
        "  return {\"answer\" : answer}\n",
        "\n",
        "\n",
        "builder = StateGraph(State)\n",
        "\n",
        "builder.add_node(\"search_web\", search_web)\n",
        "builder.add_node(\"search_wikipedia\", search_wikipedia)\n",
        "builder.add_node(\"generate_answer\", generate_answer)\n",
        "\n",
        "builder.add_edge(START, \"search_web\")\n",
        "builder.add_edge(START, \"search_wikipedia\")\n",
        "builder.add_edge(\"search_web\", \"generate_answer\")\n",
        "builder.add_edge(\"search_wikipedia\",\"generate_answer\")\n",
        "builder.add_edge(\"generate_answer\",END)\n",
        "\n",
        "graph = builder.compile()\n",
        "graph\n"
      ],
      "metadata": {
        "colab": {
          "base_uri": "https://localhost:8080/",
          "height": 350
        },
        "id": "JenqH8Ulo1-i",
        "outputId": "4b558cc6-75a2-4530-8097-1b0997936903"
      },
      "execution_count": 13,
      "outputs": [
        {
          "output_type": "execute_result",
          "data": {
            "text/plain": [
              "<langgraph.graph.state.CompiledStateGraph object at 0x7c583a7a3b90>"
            ],
            "image/png": "[encoded data removed]"
          },
          "metadata": {},
          "execution_count": 13
        }
      ]
    },
    {
      "cell_type": "code",
      "source": [
        "result = graph.invoke({\"question\":\"Who should be held responsible for the recent stampede in Bangalore during the celebration\"})\n",
        "result[\"answer\"].content"
      ],
      "metadata": {
        "colab": {
          "base_uri": "https://localhost:8080/",
          "height": 88
        },
        "id": "tK8ylpC5s4kg",
        "outputId": "82e37df6-6a89-4c64-f4f3-ce45b3f16f91"
      },
      "execution_count": 15,
      "outputs": [
        {
          "output_type": "execute_result",
          "data": {
            "text/plain": [
              "'The recent stampede in Bangalore during the RCB victory celebration has led to various parties pointing fingers at the Karnataka state government. Union Minister H D Kumaraswamy and BJP national spokesperson Sambit Patra have held the Congress government in Karnataka, specifically Chief Minister Siddaramaiah and Deputy Chief Minister DK Shivakumar, responsible for the incident. They have criticized the government for a lack of proper planning and precautionary measures. The Karnataka BJP President BY Vijayendra also stated that the state government should take full responsibility for the tragedy, citing inadequate preparations for the event. Additionally, IPL Chairman Arun Dhumal mentioned that the Board of Control for Cricket in India (BCCI) had no knowledge of the RCB celebrations, suggesting that the responsibility lies with the local administration.'"
            ],
            "application/vnd.google.colaboratory.intrinsic+json": {
              "type": "string"
            }
          },
          "metadata": {},
          "execution_count": 15
        }
      ]
    },
    {
      "cell_type": "code",
      "source": [
        "result = graph.invoke({\"question\":\"Is Virat Kohli is to be blamed? Since it was because of him fans came in so huge crowds and because he wanted to go urgently to  London next morning?\"})\n",
        "result[\"answer\"].content"
      ],
      "metadata": {
        "colab": {
          "base_uri": "https://localhost:8080/",
          "height": 88
        },
        "id": "YVjwqmk_tlMt",
        "outputId": "a764d727-6d0b-45a0-bd83-d7c57169c990"
      },
      "execution_count": 16,
      "outputs": [
        {
          "output_type": "execute_result",
          "data": {
            "text/plain": [
              "'Based on the provided context, it seems that Virat Kohli is being criticized for his actions during a cricket match, particularly for engaging with the crowd in a way that some perceived as \"classless.\" However, the context also suggests that it might be unfair to place the blame solely on him for the large crowds or any urgency related to his travel plans. The criticism appears to be more about his behavior during the match rather than logistical issues like crowd size or travel arrangements. Additionally, the notion that it is his responsibility to manage the crowd seems to be questioned, as he is primarily a cricketer, not a crowd manager. Therefore, while some may blame him for certain actions, it might not be entirely justified to hold him accountable for the broader circumstances mentioned.'"
            ],
            "application/vnd.google.colaboratory.intrinsic+json": {
              "type": "string"
            }
          },
          "metadata": {},
          "execution_count": 16
        }
      ]
    },
    {
      "cell_type": "code",
      "source": [],
      "metadata": {
        "id": "YOXE56eouBv4"
      },
      "execution_count": null,
      "outputs": []
    }
  ]
}